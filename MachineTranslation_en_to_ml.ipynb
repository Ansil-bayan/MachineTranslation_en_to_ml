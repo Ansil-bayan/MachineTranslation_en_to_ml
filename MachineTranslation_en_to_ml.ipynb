{
 "cells": [
  {
   "cell_type": "markdown",
   "metadata": {
    "colab_type": "text",
    "id": "view-in-github"
   },
   "source": [
    "<a href=\"https://colab.research.google.com/github/Ansil-bayan/MachineTranslation_en_to_ml/blob/main/MachineTranslation_en_to_ml.ipynb\" target=\"_parent\"><img src=\"https://colab.research.google.com/assets/colab-badge.svg\" alt=\"Open In Colab\"/></a>"
   ]
  },
  {
   "cell_type": "markdown",
   "metadata": {
    "id": "yx8uEckASVBu"
   },
   "source": []
  },
  {
   "cell_type": "code",
   "execution_count": 2,
   "metadata": {
    "id": "hIMzOhqKg4R0"
   },
   "outputs": [],
   "source": [
    "!pip install -q transformers torch peft datasets sacrebleu evaluate"
   ]
  },
  {
   "cell_type": "code",
   "execution_count": 3,
   "metadata": {
    "id": "ClDnuDhgR-5z"
   },
   "outputs": [],
   "source": [
    "from transformers import MBartForConditionalGeneration, MBart50Tokenizer, AutoTokenizer, Seq2SeqTrainer, Seq2SeqTrainingArguments"
   ]
  },
  {
   "cell_type": "code",
   "execution_count": 4,
   "metadata": {
    "id": "48qMR4-lSiXr"
   },
   "outputs": [],
   "source": [
    "from datasets import load_dataset\n",
    "import evaluate"
   ]
  },
  {
   "cell_type": "code",
   "execution_count": 5,
   "metadata": {
    "colab": {
     "base_uri": "https://localhost:8080/"
    },
    "id": "1HC5FSxtUfJS",
    "outputId": "aa81ef14-c5db-47cc-b2fa-0652c26a0739"
   },
   "outputs": [
    {
     "data": {
      "text/plain": [
       "device(type='cuda')"
      ]
     },
     "execution_count": 5,
     "metadata": {},
     "output_type": "execute_result"
    }
   ],
   "source": [
    "import numpy as np\n",
    "import torch, os\n",
    "os.environ[\"WANDB_DISABLED\"] = \"true\"\n",
    "device = torch.device(\"cuda\" if torch.cuda.is_available() else \"cpu\")\n",
    "device"
   ]
  },
  {
   "cell_type": "code",
   "execution_count": 6,
   "metadata": {
    "colab": {
     "base_uri": "https://localhost:8080/",
     "height": 437,
     "referenced_widgets": [
      "aec5b613239e4b72803f2df1b1e2a03d",
      "b97c85c7025d4db1bc7b93207e5192c4",
      "cee4603721df401fa94181836b5c453d",
      "7428d0a1460f4e74b9b4ccb56950ab55",
      "c3ec7af7f4f24792a12cb7f2369dec40",
      "e3ae39c9e6614b14bc78b161efc50970",
      "d5899136ef794568ace4823a29da4ed6",
      "311d6cb68e8646e2af13d876168a8075",
      "3b5eaab36ac843cc8628aa39baaad315",
      "4d3c65b4882248089c2c8a7f10352869",
      "824b1d171c6c41b1b3f977c2e33c7091",
      "5b309b9d8e5847b0bbbd654f26c08d0d",
      "1720eaad9f3d4a94a28eb25ae999fbad",
      "cf3b3971777742d9b84455f947b78e4b",
      "bd15594f63f444ba84addf879410e1ca",
      "a48a532e35b34b4489d1881b57b72c18",
      "cc72a49e41f14990beb12b8d08e19cdc",
      "929b96ad06cb40d68576d32beb0b3ffe",
      "586268a7299f4ee09000a2268c57670a",
      "069ccb4cf6794efc9e0a382276d43ae9",
      "3b7b7737d0ce49a3bb97906aa17cf4be",
      "a2f923a52a314515a066da9460c968f6",
      "e06334c5c3144d7184c06c6ac7b3f1eb",
      "c1f69f5d741d4ce2932bb2a0f308bf0f",
      "571ad0bfd11a49e0b8d64e46d4072026",
      "c76e43b0d68648e3a9b47668fe7a8c6d",
      "431d10df76f04b978051daa57d44371f",
      "6a6e887982204d1a9ffec586a93a1c3e",
      "05229f5c4344403b9e73103f0ccd3a5c",
      "b03c2661ff0e4200b79a5472aca52bdb",
      "21a2f3d00800404882c1fae1b9ab78ee",
      "0a021262bb6a4e4b97b7e080a39efb5c",
      "24df5143dbb14c30af43d15dcf50cf07",
      "052c7860d2a4426fbd64459ed66a6c77",
      "db2583df1eea4a31905f05b71c76364a",
      "f5e2c8ad33b949a2ac9aa2407052cd35",
      "be85fd655fb84b5c840383c57067dede",
      "051021cf298942bf8c8320b868df3044",
      "9d6b719929394a009c4e5c5600f64503",
      "83ecc6b5ed264123a3264837dfbd4d36",
      "392711450ae549e9a33257d7d8ead925",
      "7335842f3fbe4646a0d202b757d43b2d",
      "eb4b81d72c3b4134be50b7c480c43373",
      "6395426e01a5498fad6ce241f0279ce7",
      "4560c42f353546559c38c6ab990c7c82",
      "5e57f1a173c3414dadee4967ed6f2933",
      "4f7dc579bf64427d93510b7a9167b71b",
      "527bdbdf15fc48258f18aae975d91ebc",
      "044a2fbdca3d4ced98d31bc6563673b8",
      "44c39291c298484691d4ea0c3c094feb",
      "be8d3c7a09f84e65aa670d9c29ae7984",
      "9e4da0dcd52a4a2885922a1c8c22d857",
      "2a4653267fb44164a3503280e876bcbc",
      "d2231503a6f84e5d86e253d18af7c884",
      "ac75dbf37b9b47e6a9b6c82af93b0d4c",
      "db083f33c0134edeb210d214ff8a5366",
      "f843529737df4be5940b7050eeb314cf",
      "53a29f71fa4646e7af52418944cad1ba",
      "b62325996485446aa21583bd025d6e19",
      "0e8c5e73184246c8965acdbe46ba4b04",
      "974c961484f0404492a6b15fadc00080",
      "1c3d5c273c754ab7a6caf4e36540ae0a",
      "7426833f2ef5482382ec019f36f24670",
      "fb0d5109e9b44fa9955311ded53ed93e",
      "37c1d86170fe47bd9f70cf9a37e7fffc",
      "c23073074ab04287b07127b80aede6e9"
     ]
    },
    "id": "TMd6AgX2UpVE",
    "outputId": "a43a73ca-0d64-4944-fbe8-e3ef26abea1e"
   },
   "outputs": [
    {
     "name": "stderr",
     "output_type": "stream",
     "text": [
      "`trust_remote_code` is not supported anymore.\n",
      "Please check that the Hugging Face dataset 'ai4bharat/samanantar' isn't based on a loading script and remove `trust_remote_code`.\n",
      "If the dataset is based on a loading script, please ask the dataset author to remove it and convert it to a standard format like Parquet.\n",
      "ERROR:datasets.load:`trust_remote_code` is not supported anymore.\n",
      "Please check that the Hugging Face dataset 'ai4bharat/samanantar' isn't based on a loading script and remove `trust_remote_code`.\n",
      "If the dataset is based on a loading script, please ask the dataset author to remove it and convert it to a standard format like Parquet.\n",
      "/usr/local/lib/python3.11/dist-packages/huggingface_hub/utils/_auth.py:94: UserWarning: \n",
      "The secret `HF_TOKEN` does not exist in your Colab secrets.\n",
      "To authenticate with the Hugging Face Hub, create a token in your settings tab (https://huggingface.co/settings/tokens), set it as secret in your Google Colab and restart your session.\n",
      "You will be able to reuse this secret in all of your notebooks.\n",
      "Please note that authentication is recommended but still optional to access public models or datasets.\n",
      "  warnings.warn(\n"
     ]
    },
    {
     "data": {
      "application/vnd.jupyter.widget-view+json": {
       "model_id": "aec5b613239e4b72803f2df1b1e2a03d",
       "version_major": 2,
       "version_minor": 0
      },
      "text/plain": [
       "README.md: 0.00B [00:00, ?B/s]"
      ]
     },
     "metadata": {},
     "output_type": "display_data"
    },
    {
     "data": {
      "application/vnd.jupyter.widget-view+json": {
       "model_id": "5b309b9d8e5847b0bbbd654f26c08d0d",
       "version_major": 2,
       "version_minor": 0
      },
      "text/plain": [
       "train-00000-of-00004.parquet:   0%|          | 0.00/196M [00:00<?, ?B/s]"
      ]
     },
     "metadata": {},
     "output_type": "display_data"
    },
    {
     "data": {
      "application/vnd.jupyter.widget-view+json": {
       "model_id": "e06334c5c3144d7184c06c6ac7b3f1eb",
       "version_major": 2,
       "version_minor": 0
      },
      "text/plain": [
       "train-00001-of-00004.parquet:   0%|          | 0.00/196M [00:00<?, ?B/s]"
      ]
     },
     "metadata": {},
     "output_type": "display_data"
    },
    {
     "data": {
      "application/vnd.jupyter.widget-view+json": {
       "model_id": "052c7860d2a4426fbd64459ed66a6c77",
       "version_major": 2,
       "version_minor": 0
      },
      "text/plain": [
       "train-00002-of-00004.parquet:   0%|          | 0.00/196M [00:00<?, ?B/s]"
      ]
     },
     "metadata": {},
     "output_type": "display_data"
    },
    {
     "data": {
      "application/vnd.jupyter.widget-view+json": {
       "model_id": "4560c42f353546559c38c6ab990c7c82",
       "version_major": 2,
       "version_minor": 0
      },
      "text/plain": [
       "train-00003-of-00004.parquet:   0%|          | 0.00/196M [00:00<?, ?B/s]"
      ]
     },
     "metadata": {},
     "output_type": "display_data"
    },
    {
     "data": {
      "application/vnd.jupyter.widget-view+json": {
       "model_id": "db083f33c0134edeb210d214ff8a5366",
       "version_major": 2,
       "version_minor": 0
      },
      "text/plain": [
       "Generating train split:   0%|          | 0/5924426 [00:00<?, ? examples/s]"
      ]
     },
     "metadata": {},
     "output_type": "display_data"
    }
   ],
   "source": [
    "raw_dataset = load_dataset(\"ai4bharat/samanantar\",\"ml\",split=\"train[:1000]\", trust_remote_code=True)"
   ]
  },
  {
   "cell_type": "code",
   "execution_count": 7,
   "metadata": {
    "colab": {
     "base_uri": "https://localhost:8080/"
    },
    "id": "jbQVpQ9QVUtB",
    "outputId": "595332a3-46ec-404d-b409-1cdbc74c8279"
   },
   "outputs": [
    {
     "data": {
      "text/plain": [
       "Dataset({\n",
       "    features: ['idx', 'src', 'tgt'],\n",
       "    num_rows: 1000\n",
       "})"
      ]
     },
     "execution_count": 7,
     "metadata": {},
     "output_type": "execute_result"
    }
   ],
   "source": [
    "dataset = raw_dataset.take(1000)\n",
    "dataset"
   ]
  },
  {
   "cell_type": "code",
   "execution_count": 8,
   "metadata": {
    "id": "Hjrh3B8aVbvW"
   },
   "outputs": [],
   "source": [
    "tokenized_dataset = dataset.train_test_split(test_size=0.1)"
   ]
  },
  {
   "cell_type": "code",
   "execution_count": 9,
   "metadata": {
    "colab": {
     "base_uri": "https://localhost:8080/"
    },
    "id": "mU7UKnZZVzCE",
    "outputId": "9cc4a6ce-5332-4c68-a51a-136f2963fea6"
   },
   "outputs": [
    {
     "name": "stdout",
     "output_type": "stream",
     "text": [
      "{'idx': 45, 'src': 'But India won.', 'tgt': 'പക്ഷേ, ഇന്ത്യ ജയിച്ചു.'}\n",
      "{'idx': 621, 'src': 'Thats the strength of this movie.', 'tgt': 'ഇതുതന്നെയാണ് ചിത്രത്തിന്റെ കരുത്തും.'}\n"
     ]
    }
   ],
   "source": [
    "train_dataset =tokenized_dataset[\"train\"]\n",
    "eval_dataset = tokenized_dataset[\"test\"]\n",
    "print(train_dataset[0])\n",
    "print(eval_dataset[0])"
   ]
  },
  {
   "cell_type": "code",
   "execution_count": 10,
   "metadata": {
    "colab": {
     "base_uri": "https://localhost:8080/",
     "height": 113,
     "referenced_widgets": [
      "10c3bbaa4d1a474cb797a1952ab054e7",
      "11b3561bf37547bda081affb0b39911f",
      "21f9a7cfa171414e935bae196a5074fb",
      "eaa40472d1e84772b1d40e4ebfa7de3f",
      "d102f8fced19497cb33dcb35ae3855e9",
      "5155dc1e7e994c1498c2e7f15c94e66b",
      "81eee439d1194973a3055cc095803bbf",
      "ffc460138c9e4ac49e2a36509119d48b",
      "dfb477e803af410d967ef591c6f908bb",
      "9207f101901d443cb31410300e4a5d4d",
      "ed31421904fd454f9d083e8d90b5a88e",
      "2852a878c3cd45f9b90f327643bf65ea",
      "edbecb0db50f49fab8d0370a493cf608",
      "f344315e67174413a5eda3869010e68f",
      "39e9f90b485e4169bf8819d44a946dab",
      "e9e75d00922e4a25b4b8ac496cc1d525",
      "f41280dbe59543bca2865d69a0ff0a03",
      "e7f06775e8ee485cbe27fc924a072e8f",
      "5eba7aea7026474aba6d13f395966273",
      "6d73f5ee5e0941408260ef79024673d3",
      "bf709fa47dbb4fcf84b1b73b22024858",
      "e6b78bbd0b744372ab275ea29d567e8b",
      "36d87406dc25432c8075d5365933922f",
      "7b119a0aff764564b61a599b1ad737a6",
      "41218226a7ca4fa9a53bb2471c88f13f",
      "639c258963ce406b9b30ec442c96f482",
      "89707da41e9544f1b3f565d05641718e",
      "b966048582654f7a9c7ff3bfc784d6ac",
      "fbd927a5599240eea5a3e000d131efda",
      "ba561517c93b490eada693226db0cd94",
      "79f55105c0234f71ada4ea73b484bd6d",
      "6dfb46251d8f40a7adaa68bae5f8eaf4",
      "94ff909d224142569ba3450b6eeb2de2"
     ]
    },
    "id": "6NFRSjaEWPbB",
    "outputId": "c2b9b682-00dc-4b8e-8d07-ff6e011d53ca"
   },
   "outputs": [
    {
     "data": {
      "application/vnd.jupyter.widget-view+json": {
       "model_id": "10c3bbaa4d1a474cb797a1952ab054e7",
       "version_major": 2,
       "version_minor": 0
      },
      "text/plain": [
       "config.json: 0.00B [00:00, ?B/s]"
      ]
     },
     "metadata": {},
     "output_type": "display_data"
    },
    {
     "data": {
      "application/vnd.jupyter.widget-view+json": {
       "model_id": "2852a878c3cd45f9b90f327643bf65ea",
       "version_major": 2,
       "version_minor": 0
      },
      "text/plain": [
       "model.safetensors:   0%|          | 0.00/2.44G [00:00<?, ?B/s]"
      ]
     },
     "metadata": {},
     "output_type": "display_data"
    },
    {
     "data": {
      "application/vnd.jupyter.widget-view+json": {
       "model_id": "36d87406dc25432c8075d5365933922f",
       "version_major": 2,
       "version_minor": 0
      },
      "text/plain": [
       "generation_config.json:   0%|          | 0.00/261 [00:00<?, ?B/s]"
      ]
     },
     "metadata": {},
     "output_type": "display_data"
    }
   ],
   "source": [
    "model_name = \"facebook/mbart-large-50-many-to-many-mmt\"\n",
    "model = MBartForConditionalGeneration.from_pretrained(model_name)"
   ]
  },
  {
   "cell_type": "code",
   "execution_count": 11,
   "metadata": {
    "colab": {
     "base_uri": "https://localhost:8080/",
     "height": 113,
     "referenced_widgets": [
      "42ca8bc06eb346238d34e5e78a61d97f",
      "2c0906bb72104d68b21b743e8375aec3",
      "f8bb40d64cef41a3837760a3a6c6ad7e",
      "3d944391185947dcb40a649575a8ed93",
      "928044e9cf924a3ebcd7acfe8f044843",
      "ea9f40915e614bc394755c96c9e6f8df",
      "abcb629f48284723a384ead0e9eb75b4",
      "dbc15f0c9f3f4a638e63e8dd2c8ef728",
      "cfc5482d4d7341f492cc911d76a22508",
      "8a18ae155d57499988efb936352c139e",
      "0553a1768c18488d8c86b2dd64f26ca1",
      "7ceb5897b5ed4359a019e817b367176b",
      "f4d40f4121024cfa9adde75922e2a78b",
      "0e99813f55174781bbc41a2b4da0adf8",
      "77ee22b2d6a44c1dbff11dea5ef73c99",
      "4d681f9d807d4e47b1bde95385c096c7",
      "7a716c95d47a4a9bbd33856209803ec7",
      "059fdcdf5e454c2b97ad0b2d0217eaea",
      "31f16603856c40fcbb906f1df1575856",
      "2b4adb7ba9234dd99d8bfbc7b98ba939",
      "0665bd5d569e40b8a2ca4aefa507ae25",
      "f28c61e322f642b8bd2ea676ca87e1b1",
      "897c362eef85400d93627e3d0c29303f",
      "829cea06af0842cfb2d2b5cfae504f2b",
      "712c8329374a40d7ae31056776800881",
      "d591bc24a1c44cf09e694fea8205d646",
      "5e8a7481176f443093b78334f38c328e",
      "871c57e020d643f68ad0fcbcf3b76fff",
      "21889ab4d9924b67a06e2fdf6f669d9c",
      "c259110d99594f76bb63181735a366cf",
      "5b7498f1389b4bd889fc97f2803b43a9",
      "bac97aedc65a4a71b064520386bd5996",
      "855199963b454e65ae20159d8a75f154"
     ]
    },
    "id": "1sUJHFcVXFWS",
    "outputId": "c6c17e3b-62d2-4d07-ea12-239583e476e7"
   },
   "outputs": [
    {
     "data": {
      "application/vnd.jupyter.widget-view+json": {
       "model_id": "42ca8bc06eb346238d34e5e78a61d97f",
       "version_major": 2,
       "version_minor": 0
      },
      "text/plain": [
       "tokenizer_config.json:   0%|          | 0.00/529 [00:00<?, ?B/s]"
      ]
     },
     "metadata": {},
     "output_type": "display_data"
    },
    {
     "data": {
      "application/vnd.jupyter.widget-view+json": {
       "model_id": "7ceb5897b5ed4359a019e817b367176b",
       "version_major": 2,
       "version_minor": 0
      },
      "text/plain": [
       "sentencepiece.bpe.model:   0%|          | 0.00/5.07M [00:00<?, ?B/s]"
      ]
     },
     "metadata": {},
     "output_type": "display_data"
    },
    {
     "data": {
      "application/vnd.jupyter.widget-view+json": {
       "model_id": "897c362eef85400d93627e3d0c29303f",
       "version_major": 2,
       "version_minor": 0
      },
      "text/plain": [
       "special_tokens_map.json:   0%|          | 0.00/649 [00:00<?, ?B/s]"
      ]
     },
     "metadata": {},
     "output_type": "display_data"
    }
   ],
   "source": [
    "tokenizer = MBart50Tokenizer.from_pretrained(model_name)"
   ]
  },
  {
   "cell_type": "code",
   "execution_count": 12,
   "metadata": {
    "colab": {
     "base_uri": "https://localhost:8080/",
     "height": 81,
     "referenced_widgets": [
      "8200a4c8fc634961aefbaa01175eaa41",
      "15fd2fd3d80d455bb2a456068637da24",
      "4c9b922efbe34487af6f25499b39dc5b",
      "9d41a03627894d489e62619f4563adae",
      "260dfdd65c0b4fbe8a2a9b35d801b2b7",
      "9417289bf6844e82a84020bc773dd22c",
      "ac2efafb85194469b308d9373d953ab7",
      "93ddce8c61b143e38e7557aa0056f01a",
      "273eb9b5631c4529a4111c05f75a4ad1",
      "7832d765ce8c4b778c6f431367ad0da3",
      "011c62cedf1e4c7a94731757c016f269",
      "ba5d72fc0b5f42529fac46676f833a10",
      "89349e1b4770447c82f12b6ddcb88109",
      "349c4431b3ff4718b82551704d127752",
      "d07e3e166f4d478f9fa8942e9853b3c2",
      "e5a939fcb6f74a70899497046f01703a",
      "f5d99904b97b48ef9c27c73894603cd7",
      "f36a21a3db70408e8dd5b9f12392ab9a",
      "2e5f75e80b534a09bb5b3d66800fc03a",
      "a732202360ea41388ba986856a0d6a27",
      "b9306f57487e40a28a471f3696b870dc",
      "970b76fa09da481cb53aa24f579eb049"
     ]
    },
    "id": "-xe3ndoJk3AQ",
    "outputId": "24dc9bbc-bc2e-4bae-f2bb-118a3c607fac"
   },
   "outputs": [
    {
     "data": {
      "application/vnd.jupyter.widget-view+json": {
       "model_id": "8200a4c8fc634961aefbaa01175eaa41",
       "version_major": 2,
       "version_minor": 0
      },
      "text/plain": [
       "Map:   0%|          | 0/900 [00:00<?, ? examples/s]"
      ]
     },
     "metadata": {},
     "output_type": "display_data"
    },
    {
     "data": {
      "application/vnd.jupyter.widget-view+json": {
       "model_id": "ba5d72fc0b5f42529fac46676f833a10",
       "version_major": 2,
       "version_minor": 0
      },
      "text/plain": [
       "Map:   0%|          | 0/100 [00:00<?, ? examples/s]"
      ]
     },
     "metadata": {},
     "output_type": "display_data"
    }
   ],
   "source": [
    "def preprocess_function(a):           #to convert train dataset and eval dataset into token numbers\n",
    "  inputs = [i for i in a['src']]\n",
    "  targets = [i for i in a['tgt']]\n",
    "\n",
    "  model_inputs = tokenizer(inputs, max_length=128, truncation=True, padding=\"max_length\")\n",
    "\n",
    "  labels = tokenizer(targets, max_length=128, truncation=True, padding=\"max_length\").input_ids\n",
    "  labels = [[-100 if token == tokenizer.pad_token_id else token for token in label] for label in labels]\n",
    "\n",
    "  model_inputs[\"labels\"] = labels\n",
    "  return model_inputs\n",
    "\n",
    "tokenized_train_dataset = train_dataset.map(preprocess_function, batched=True)\n",
    "tokenized_eval_dataset = eval_dataset.map(preprocess_function, batched=True)"
   ]
  },
  {
   "cell_type": "code",
   "execution_count": 13,
   "metadata": {
    "id": "h7a_wrgUkjO5"
   },
   "outputs": [],
   "source": [
    "training_args = Seq2SeqTrainingArguments(\n",
    "    output_dir=\"./results\",\n",
    "    eval_strategy= \"epoch\",\n",
    "    learning_rate=2e-5,\n",
    "    per_device_train_batch_size=4,\n",
    "    per_device_eval_batch_size=4,\n",
    "    gradient_accumulation_steps=4,\n",
    "    fp16=True,\n",
    "    weight_decay=0.01,\n",
    "    save_total_limit=3,\n",
    "    num_train_epochs=3,\n",
    "    predict_with_generate=True,\n",
    "    logging_dir=\"./logs\",\n",
    "    logging_steps=10,\n",
    "    generation_max_length=128,\n",
    "    report_to=\"none\"\n",
    "\n",
    ")"
   ]
  },
  {
   "cell_type": "code",
   "execution_count": 14,
   "metadata": {
    "colab": {
     "base_uri": "https://localhost:8080/",
     "height": 49,
     "referenced_widgets": [
      "40e4a5150b7749bf8f4d1421e2ce3dda",
      "791afbc2c9b94f01b94f9d9c5834a4c8",
      "55aad1a8498e42e1b03ab47ce6744475",
      "afd1268934324020a0368c8f029c655a",
      "84264dca90bb4ebdbe08a6c237f9862c",
      "1363406a4d324788ad1662357a6e8643",
      "1740567c4b45449da91f9aece2a6b49f",
      "8cba5407ef5a4b29915c9034ad14665f",
      "22418df457ab451aa85486987154de7c",
      "21393160eb9e420e9b55b872b9a536d5",
      "cf24ad87d590401587634baada64c3d7"
     ]
    },
    "id": "DscpAKfLl_Q_",
    "outputId": "354e86d9-9cd7-4b70-b11f-d4b92752c98f"
   },
   "outputs": [
    {
     "data": {
      "application/vnd.jupyter.widget-view+json": {
       "model_id": "40e4a5150b7749bf8f4d1421e2ce3dda",
       "version_major": 2,
       "version_minor": 0
      },
      "text/plain": [
       "Downloading builder script: 0.00B [00:00, ?B/s]"
      ]
     },
     "metadata": {},
     "output_type": "display_data"
    }
   ],
   "source": [
    "metric = evaluate.load(\"sacrebleu\")\n",
    "\n",
    "def compute_metrics(eval_preds):\n",
    "  preds,labels = eval_preds\n",
    "\n",
    "  decoded_preds = tokenizer.batch_decode(preds, skip_special_tokens=True)\n",
    "\n",
    "  labels = np.where(labels!=-100, labels, tokenizer.pad_token_id)\n",
    "  decoded_labels = tokenizer.batch_decode(labels, skip_special_tokens=True)\n",
    "\n",
    "  result = metric.compute(predictions=decoded_preds, references=[[label] for label in decoded_labels])\n",
    "\n",
    "  return result"
   ]
  },
  {
   "cell_type": "code",
   "execution_count": 15,
   "metadata": {
    "colab": {
     "base_uri": "https://localhost:8080/"
    },
    "id": "FUL4YvCInXzY",
    "outputId": "52dcf6c4-2512-4a8a-89ed-af61e2e11771"
   },
   "outputs": [
    {
     "name": "stderr",
     "output_type": "stream",
     "text": [
      "/tmp/ipython-input-3229105591.py:1: FutureWarning: `tokenizer` is deprecated and will be removed in version 5.0.0 for `Seq2SeqTrainer.__init__`. Use `processing_class` instead.\n",
      "  trainer = Seq2SeqTrainer(\n"
     ]
    }
   ],
   "source": [
    "trainer = Seq2SeqTrainer(\n",
    "    model=model,\n",
    "    args= training_args,\n",
    "    train_dataset= tokenized_train_dataset,\n",
    "    eval_dataset= tokenized_eval_dataset,\n",
    "    tokenizer=tokenizer,\n",
    "    compute_metrics=compute_metrics,\n",
    ")"
   ]
  },
  {
   "cell_type": "code",
   "execution_count": 16,
   "metadata": {
    "id": "wZyK1HC-oCli"
   },
   "outputs": [],
   "source": [
    "save_directory = \"/kaggle/new_model/saved_model\"\n",
    "\n",
    "os.makedirs(save_directory, exist_ok=True)"
   ]
  },
  {
   "cell_type": "code",
   "execution_count": 17,
   "metadata": {
    "colab": {
     "base_uri": "https://localhost:8080/",
     "height": 293
    },
    "id": "56udDtDU9dQj",
    "outputId": "e85d1564-9f9b-43e4-8ca9-b37f6b19022c"
   },
   "outputs": [
    {
     "data": {
      "text/html": [
       "\n",
       "    <div>\n",
       "      \n",
       "      <progress value='171' max='171' style='width:300px; height:20px; vertical-align: middle;'></progress>\n",
       "      [171/171 09:32, Epoch 3/3]\n",
       "    </div>\n",
       "    <table border=\"1\" class=\"dataframe\">\n",
       "  <thead>\n",
       " <tr style=\"text-align: left;\">\n",
       "      <th>Epoch</th>\n",
       "      <th>Training Loss</th>\n",
       "      <th>Validation Loss</th>\n",
       "      <th>Score</th>\n",
       "      <th>Counts</th>\n",
       "      <th>Totals</th>\n",
       "      <th>Precisions</th>\n",
       "      <th>Bp</th>\n",
       "      <th>Sys Len</th>\n",
       "      <th>Ref Len</th>\n",
       "    </tr>\n",
       "  </thead>\n",
       "  <tbody>\n",
       "    <tr>\n",
       "      <td>1</td>\n",
       "      <td>3.381000</td>\n",
       "      <td>3.026621</td>\n",
       "      <td>2.021471</td>\n",
       "      <td>[218, 37, 8, 0]</td>\n",
       "      <td>[820, 720, 621, 527]</td>\n",
       "      <td>[26.585365853658537, 5.138888888888889, 1.288244766505636, 0.09487666034155598]</td>\n",
       "      <td>1.000000</td>\n",
       "      <td>820</td>\n",
       "      <td>819</td>\n",
       "    </tr>\n",
       "    <tr>\n",
       "      <td>2</td>\n",
       "      <td>2.682600</td>\n",
       "      <td>2.970365</td>\n",
       "      <td>1.963093</td>\n",
       "      <td>[211, 41, 9, 0]</td>\n",
       "      <td>[871, 771, 673, 580]</td>\n",
       "      <td>[24.225028702640643, 5.317769130998703, 1.337295690936107, 0.08620689655172414]</td>\n",
       "      <td>1.000000</td>\n",
       "      <td>871</td>\n",
       "      <td>819</td>\n",
       "    </tr>\n",
       "    <tr>\n",
       "      <td>3</td>\n",
       "      <td>2.301200</td>\n",
       "      <td>2.967742</td>\n",
       "      <td>2.756126</td>\n",
       "      <td>[222, 47, 13, 1]</td>\n",
       "      <td>[852, 752, 654, 561]</td>\n",
       "      <td>[26.056338028169016, 6.25, 1.9877675840978593, 0.17825311942959002]</td>\n",
       "      <td>1.000000</td>\n",
       "      <td>852</td>\n",
       "      <td>819</td>\n",
       "    </tr>\n",
       "  </tbody>\n",
       "</table><p>"
      ],
      "text/plain": [
       "<IPython.core.display.HTML object>"
      ]
     },
     "metadata": {},
     "output_type": "display_data"
    },
    {
     "name": "stderr",
     "output_type": "stream",
     "text": [
      "/usr/local/lib/python3.11/dist-packages/transformers/modeling_utils.py:3854: UserWarning: Moving the following attributes in the config to the generation config: {'max_length': 200, 'early_stopping': True, 'num_beams': 5}. You are seeing this warning because you've set generation parameters in the model config, as opposed to in the generation config.\n",
      "  warnings.warn(\n"
     ]
    }
   ],
   "source": [
    "train_result=trainer.train()"
   ]
  },
  {
   "cell_type": "code",
   "execution_count": 18,
   "metadata": {
    "id": "hQkiwGBe9kOH"
   },
   "outputs": [],
   "source": [
    "trainer.save_model(save_directory)"
   ]
  },
  {
   "cell_type": "code",
   "execution_count": 19,
   "metadata": {
    "colab": {
     "base_uri": "https://localhost:8080/"
    },
    "id": "B1ZvgQHa594T",
    "outputId": "71f0c59c-0b09-494c-e397-086bd9e19841"
   },
   "outputs": [
    {
     "data": {
      "text/plain": [
       "{'train_runtime': 575.3872,\n",
       " 'train_samples_per_second': 4.692,\n",
       " 'train_steps_per_second': 0.297,\n",
       " 'total_flos': 731406296678400.0,\n",
       " 'train_loss': 2.905190460863169,\n",
       " 'epoch': 3.0}"
      ]
     },
     "execution_count": 19,
     "metadata": {},
     "output_type": "execute_result"
    }
   ],
   "source": [
    "train_result.metrics"
   ]
  },
  {
   "cell_type": "code",
   "execution_count": 21,
   "metadata": {
    "colab": {
     "base_uri": "https://localhost:8080/"
    },
    "id": "kq5E5-v89pCI",
    "outputId": "938a0630-3f28-4ecd-e3a8-099ec5721084"
   },
   "outputs": [
    {
     "name": "stdout",
     "output_type": "stream",
     "text": [
      "Model saved to ./finetuned-MBart50-en-ml\n"
     ]
    }
   ],
   "source": [
    "save_directory = './finetuned-MBart50-en-ml'\n",
    "\n",
    "# Save model and tokenizer\n",
    "model.save_pretrained(save_directory)\n",
    "tokenizer.save_pretrained(save_directory)\n",
    "\n",
    "print(f\"Model saved to {save_directory}\")"
   ]
  },
  {
   "cell_type": "code",
   "execution_count": 22,
   "metadata": {
    "colab": {
     "base_uri": "https://localhost:8080/"
    },
    "id": "b3tZjSu8qi26",
    "outputId": "c56cabd5-efda-4cb0-86f2-d3b55be1a89a"
   },
   "outputs": [
    {
     "name": "stdout",
     "output_type": "stream",
     "text": [
      "English: Thats the film's script\n",
      "Mal Translation: അതാണ് ചിത്രത്തിന് റെ തിരക്കഥ.\n"
     ]
    }
   ],
   "source": [
    "# @title Translate {\"display-mode\":\"form\"}\n",
    "\n",
    "from transformers import AutoModelForSeq2SeqLM, AutoTokenizer\n",
    "import torch\n",
    "\n",
    "# Load your model and tokenizer\n",
    "model_name =save_directory\n",
    "model = AutoModelForSeq2SeqLM.from_pretrained(model_name).to(device)\n",
    "tokenizer = AutoTokenizer.from_pretrained(model_name)\n",
    "\n",
    "# Example English sentence to translate\n",
    "English = \"Thats the film's script\" # @param {\"type\":\"string\"}\n",
    "\n",
    "# Tokenize the input sentence\n",
    "inputs = tokenizer(English, return_tensors=\"pt\").to(device)\n",
    "\n",
    "# Generate translation\n",
    "with torch.no_grad():\n",
    "    outputs = model.generate(**inputs, max_length=128, num_beams=4, early_stopping=True)\n",
    "\n",
    "# Decode the generated tokens\n",
    "translated_sentence = tokenizer.decode(outputs[0], skip_special_tokens=True)\n",
    "\n",
    "print(f\"English: {English}\")\n",
    "print(f\"Mal Translation: {translated_sentence}\")"
   ]
  }
 ],
 "metadata": {
  "accelerator": "GPU",
  "colab": {
   "authorship_tag": "ABX9TyN/9mHVXCj5YlXqpI91IBtf",
   "gpuType": "T4",
   "include_colab_link": true,
   "provenance": []
  },
  "kernelspec": {
   "display_name": "Python 3",
   "name": "python3"
  },
  "language_info": {
   "name": "python"
  }
 },
 "nbformat": 4,
 "nbformat_minor": 0
}
